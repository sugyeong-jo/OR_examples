{
 "metadata": {
  "language_info": {
   "codemirror_mode": {
    "name": "ipython",
    "version": 3
   },
   "file_extension": ".py",
   "mimetype": "text/x-python",
   "name": "python",
   "nbconvert_exporter": "python",
   "pygments_lexer": "ipython3",
   "version": "3.8.5"
  },
  "orig_nbformat": 2,
  "kernelspec": {
   "name": "python3",
   "display_name": "Python 3.8.5 64-bit ('base': conda)",
   "metadata": {
    "interpreter": {
     "hash": "dca0ade3e726a953b501b15e8e990130d2b7799f14cfd9f4271676035ebe5511"
    }
   }
  }
 },
 "nbformat": 4,
 "nbformat_minor": 2,
 "cells": [
  {
   "cell_type": "code",
   "execution_count": 13,
   "metadata": {},
   "outputs": [],
   "source": [
    "#%%\n",
    "from mip import Model, xsum, minimize, BINARY, INTEGER\n",
    "import pandas as pd\n",
    "\n"
   ]
  },
  {
   "cell_type": "code",
   "execution_count": 14,
   "metadata": {},
   "outputs": [],
   "source": [
    "#%%\n",
    "cost = pd.read_csv('cost.csv', index_col=0)\n",
    "demand = pd.read_csv('demand.csv', index_col=0)\n",
    "prepaid = pd.read_csv('prepaid.csv', index_col=0)\n"
   ]
  },
  {
   "source": [
    "# Sets\n",
    "\n",
    "T = Time\n",
    "\n",
    "I = items\n",
    "\n",
    "J = machines\n",
    "\n",
    "# parameters\n",
    "\n",
    "$x_{i,j,k}$ = amount of item $i$ using $j$ at time $t$\n",
    "\n",
    "$u_{i, t}$ = amout of not meeted item $i$ at time $t$ \n"
   ],
   "cell_type": "markdown",
   "metadata": {}
  },
  {
   "cell_type": "code",
   "execution_count": 15,
   "metadata": {},
   "outputs": [],
   "source": [
    "#%%\n",
    "# set\n",
    "T = list(range(len(cost.index)))\n",
    "I = list(cost.columns)\n",
    "J = ['A', 'B', 'C']\n",
    "cit = {}\n",
    "pit = {}\n",
    "dit = {}\n",
    "mijt = {}\n",
    "\n",
    "#%%\n",
    "# Parameters\n",
    "for i, item in enumerate(cost.columns):\n",
    "    for t, date in enumerate(cost.index):\n",
    "        cit[item, t] = int(cost.iloc[t, i])\n",
    "\n",
    "for i, item in enumerate(prepaid.columns):\n",
    "    for t, date in enumerate(prepaid.index):\n",
    "        pit[item, t] = int(prepaid.iloc[t, i])\n",
    "\n",
    "for i, item in enumerate(demand.columns):\n",
    "    for t, date in enumerate(demand.index):\n",
    "        dit[item, t] = int(demand.iloc[t, i])\n",
    "\n",
    "for i, item in enumerate(demand.columns):\n",
    "    for j  in J :\n",
    "        for t, date in enumerate(demand.index):\n",
    "            mijt[item,j, t] = 1\n",
    "# variables\n",
    "m = Model(\"Unist_optimization\")\n",
    "xijt = {\n",
    "    (i, j, t): m.add_var(var_type=INTEGER, name=\"x_%s,%s,%s\" % (i, j, t))\n",
    "    for i in I for j in J for t in T\n",
    "    }\n",
    "uit = {\n",
    "    (i, t): m.add_var(var_type=INTEGER, name=\"u_%s,%s\" % (i, t))\n",
    "    for i in I for t in T\n",
    "}"
   ]
  },
  {
   "cell_type": "code",
   "execution_count": 16,
   "metadata": {},
   "outputs": [
    {
     "output_type": "execute_result",
     "data": {
      "text/plain": [
       "{('a', 0): 1,\n",
       " ('a', 1): 1,\n",
       " ('a', 2): 1,\n",
       " ('a', 3): 1,\n",
       " ('a', 4): 1,\n",
       " ('a', 5): 1,\n",
       " ('b', 0): 1,\n",
       " ('b', 1): 1,\n",
       " ('b', 2): 1,\n",
       " ('b', 3): 1,\n",
       " ('b', 4): 1,\n",
       " ('b', 5): 1,\n",
       " ('c', 0): 1,\n",
       " ('c', 1): 1,\n",
       " ('c', 2): 1,\n",
       " ('c', 3): 1,\n",
       " ('c', 4): 1,\n",
       " ('c', 5): 1,\n",
       " ('d', 0): 1,\n",
       " ('d', 1): 1,\n",
       " ('d', 2): 1,\n",
       " ('d', 3): 1,\n",
       " ('d', 4): 1,\n",
       " ('d', 5): 1}"
      ]
     },
     "metadata": {},
     "execution_count": 16
    }
   ],
   "source": [
    "cit"
   ]
  },
  {
   "cell_type": "code",
   "execution_count": 17,
   "metadata": {},
   "outputs": [
    {
     "output_type": "execute_result",
     "data": {
      "text/plain": [
       "{('a', 0): 2,\n",
       " ('a', 1): 1,\n",
       " ('a', 2): 1,\n",
       " ('a', 3): 1,\n",
       " ('a', 4): 1,\n",
       " ('a', 5): 2,\n",
       " ('b', 0): 1,\n",
       " ('b', 1): 1,\n",
       " ('b', 2): 1,\n",
       " ('b', 3): 1,\n",
       " ('b', 4): 1,\n",
       " ('b', 5): 1,\n",
       " ('c', 0): 2,\n",
       " ('c', 1): 1,\n",
       " ('c', 2): 2,\n",
       " ('c', 3): 2,\n",
       " ('c', 4): 1,\n",
       " ('c', 5): 1,\n",
       " ('d', 0): 2,\n",
       " ('d', 1): 2,\n",
       " ('d', 2): 2,\n",
       " ('d', 3): 2,\n",
       " ('d', 4): 2,\n",
       " ('d', 5): 1}"
      ]
     },
     "metadata": {},
     "execution_count": 17
    }
   ],
   "source": [
    "pit"
   ]
  },
  {
   "cell_type": "code",
   "execution_count": 18,
   "metadata": {},
   "outputs": [
    {
     "output_type": "execute_result",
     "data": {
      "text/plain": [
       "{('a', 0): 3,\n",
       " ('a', 1): 3,\n",
       " ('a', 2): 4,\n",
       " ('a', 3): 6,\n",
       " ('a', 4): 2,\n",
       " ('a', 5): 5,\n",
       " ('b', 0): 4,\n",
       " ('b', 1): 3,\n",
       " ('b', 2): 2,\n",
       " ('b', 3): 8,\n",
       " ('b', 4): 3,\n",
       " ('b', 5): 6,\n",
       " ('c', 0): 5,\n",
       " ('c', 1): 7,\n",
       " ('c', 2): 9,\n",
       " ('c', 3): 1,\n",
       " ('c', 4): 5,\n",
       " ('c', 5): 9,\n",
       " ('d', 0): 6,\n",
       " ('d', 1): 8,\n",
       " ('d', 2): 1,\n",
       " ('d', 3): 5,\n",
       " ('d', 4): 8,\n",
       " ('d', 5): 2}"
      ]
     },
     "metadata": {},
     "execution_count": 18
    }
   ],
   "source": [
    "dit"
   ]
  },
  {
   "cell_type": "code",
   "execution_count": 19,
   "metadata": {},
   "outputs": [
    {
     "output_type": "execute_result",
     "data": {
      "text/plain": [
       "{('a', 'A', 0): 1,\n",
       " ('a', 'A', 1): 1,\n",
       " ('a', 'A', 2): 1,\n",
       " ('a', 'A', 3): 1,\n",
       " ('a', 'A', 4): 1,\n",
       " ('a', 'A', 5): 1,\n",
       " ('a', 'B', 0): 1,\n",
       " ('a', 'B', 1): 1,\n",
       " ('a', 'B', 2): 1,\n",
       " ('a', 'B', 3): 1,\n",
       " ('a', 'B', 4): 1,\n",
       " ('a', 'B', 5): 1,\n",
       " ('a', 'C', 0): 1,\n",
       " ('a', 'C', 1): 1,\n",
       " ('a', 'C', 2): 1,\n",
       " ('a', 'C', 3): 1,\n",
       " ('a', 'C', 4): 1,\n",
       " ('a', 'C', 5): 1,\n",
       " ('b', 'A', 0): 1,\n",
       " ('b', 'A', 1): 1,\n",
       " ('b', 'A', 2): 1,\n",
       " ('b', 'A', 3): 1,\n",
       " ('b', 'A', 4): 1,\n",
       " ('b', 'A', 5): 1,\n",
       " ('b', 'B', 0): 1,\n",
       " ('b', 'B', 1): 1,\n",
       " ('b', 'B', 2): 1,\n",
       " ('b', 'B', 3): 1,\n",
       " ('b', 'B', 4): 1,\n",
       " ('b', 'B', 5): 1,\n",
       " ('b', 'C', 0): 1,\n",
       " ('b', 'C', 1): 1,\n",
       " ('b', 'C', 2): 1,\n",
       " ('b', 'C', 3): 1,\n",
       " ('b', 'C', 4): 1,\n",
       " ('b', 'C', 5): 1,\n",
       " ('c', 'A', 0): 1,\n",
       " ('c', 'A', 1): 1,\n",
       " ('c', 'A', 2): 1,\n",
       " ('c', 'A', 3): 1,\n",
       " ('c', 'A', 4): 1,\n",
       " ('c', 'A', 5): 1,\n",
       " ('c', 'B', 0): 1,\n",
       " ('c', 'B', 1): 1,\n",
       " ('c', 'B', 2): 1,\n",
       " ('c', 'B', 3): 1,\n",
       " ('c', 'B', 4): 1,\n",
       " ('c', 'B', 5): 1,\n",
       " ('c', 'C', 0): 1,\n",
       " ('c', 'C', 1): 1,\n",
       " ('c', 'C', 2): 1,\n",
       " ('c', 'C', 3): 1,\n",
       " ('c', 'C', 4): 1,\n",
       " ('c', 'C', 5): 1,\n",
       " ('d', 'A', 0): 1,\n",
       " ('d', 'A', 1): 1,\n",
       " ('d', 'A', 2): 1,\n",
       " ('d', 'A', 3): 1,\n",
       " ('d', 'A', 4): 1,\n",
       " ('d', 'A', 5): 1,\n",
       " ('d', 'B', 0): 1,\n",
       " ('d', 'B', 1): 1,\n",
       " ('d', 'B', 2): 1,\n",
       " ('d', 'B', 3): 1,\n",
       " ('d', 'B', 4): 1,\n",
       " ('d', 'B', 5): 1,\n",
       " ('d', 'C', 0): 1,\n",
       " ('d', 'C', 1): 1,\n",
       " ('d', 'C', 2): 1,\n",
       " ('d', 'C', 3): 1,\n",
       " ('d', 'C', 4): 1,\n",
       " ('d', 'C', 5): 1}"
      ]
     },
     "metadata": {},
     "execution_count": 19
    }
   ],
   "source": [
    "mijt"
   ]
  },
  {
   "source": [
    "![]('.img1.png')"
   ],
   "cell_type": "markdown",
   "metadata": {}
  },
  {
   "cell_type": "code",
   "execution_count": 20,
   "metadata": {},
   "outputs": [
    {
     "output_type": "stream",
     "name": "stdout",
     "text": [
      "Objective value is : 0.0\n"
     ]
    }
   ],
   "source": [
    "\n",
    "# objective\n",
    "m.objective = minimize(\n",
    "    xsum(uit[i, t]*cit[i, t]*pit[i, t] for i in I for t in T)\n",
    "    )\n",
    "\n",
    "# constraint\n",
    "# Constraint 1:-\n",
    "for i in I:\n",
    "    for t in T:\n",
    "        m += (uit[i, t] + xsum(xijt[i, j, t] for j in J) ==  dit[i, t])\n",
    "\n",
    "# Constraint 2:-\n",
    "for j in J:\n",
    "    for t in T:\n",
    "        m += (xsum(mijt[i, j, t]*xijt[i, j, t] for i in I) <=  1200)\n",
    "\n",
    "# Constraint 3, 4:-\n",
    "for i in I:\n",
    "    for j in J:\n",
    "        for t in T:\n",
    "            m += (xijt[i, j, t] >= 0)\n",
    "for i in I:\n",
    "    for t in T:\n",
    "        m += (uit[i, t] >= 0)\n",
    "\n",
    "m.write('model.lp')\n",
    "m.read('model.lp')\n",
    "# %%\n",
    "m.optimize()\n",
    "\n",
    "# %%\n",
    "solution = []\n",
    "for i in I:\n",
    "    for j in J:\n",
    "        for t in T:\n",
    "            solution.append([xijt[i, j, t].name, xijt[i, j, t].x])\n",
    "            solution.append([uit[i, t].name, uit[i, t].x])\n",
    "solution = pd.DataFrame(\n",
    "    solution,\n",
    "    columns=['variable', 'solution'])\n",
    "solution.sort_values(['variable', 'solution'], inplace=True)\n",
    "solution.to_csv('solution.csv', index=False)\n",
    "solution.drop_duplicates().to_csv('solution.csv', index=False)\n",
    "print(f'Objective value is : {m.objective_value}')\n"
   ]
  },
  {
   "cell_type": "code",
   "execution_count": 21,
   "metadata": {},
   "outputs": [
    {
     "output_type": "execute_result",
     "data": {
      "text/plain": [
       "   variable  solution\n",
       "26  x_a,A,2       4.0\n",
       "27  x_a,A,3       6.0\n",
       "28  x_a,A,4       2.0\n",
       "29  x_a,A,5       5.0\n",
       "36  x_a,C,0       3.0\n",
       "37  x_a,C,1       3.0\n",
       "42  x_b,A,0       4.0\n",
       "43  x_b,A,1       3.0\n",
       "50  x_b,B,2       2.0\n",
       "57  x_b,C,3       8.0\n",
       "58  x_b,C,4       3.0\n",
       "59  x_b,C,5       6.0\n",
       "64  x_c,A,4       5.0\n",
       "65  x_c,A,5       9.0\n",
       "67  x_c,B,1       7.0\n",
       "72  x_c,C,0       5.0\n",
       "74  x_c,C,2       9.0\n",
       "75  x_c,C,3       1.0\n",
       "78  x_d,A,0       6.0\n",
       "91  x_d,C,1       8.0\n",
       "92  x_d,C,2       1.0\n",
       "93  x_d,C,3       5.0\n",
       "94  x_d,C,4       8.0\n",
       "95  x_d,C,5       2.0"
      ],
      "text/html": "<div>\n<style scoped>\n    .dataframe tbody tr th:only-of-type {\n        vertical-align: middle;\n    }\n\n    .dataframe tbody tr th {\n        vertical-align: top;\n    }\n\n    .dataframe thead th {\n        text-align: right;\n    }\n</style>\n<table border=\"1\" class=\"dataframe\">\n  <thead>\n    <tr style=\"text-align: right;\">\n      <th></th>\n      <th>variable</th>\n      <th>solution</th>\n    </tr>\n  </thead>\n  <tbody>\n    <tr>\n      <th>26</th>\n      <td>x_a,A,2</td>\n      <td>4.0</td>\n    </tr>\n    <tr>\n      <th>27</th>\n      <td>x_a,A,3</td>\n      <td>6.0</td>\n    </tr>\n    <tr>\n      <th>28</th>\n      <td>x_a,A,4</td>\n      <td>2.0</td>\n    </tr>\n    <tr>\n      <th>29</th>\n      <td>x_a,A,5</td>\n      <td>5.0</td>\n    </tr>\n    <tr>\n      <th>36</th>\n      <td>x_a,C,0</td>\n      <td>3.0</td>\n    </tr>\n    <tr>\n      <th>37</th>\n      <td>x_a,C,1</td>\n      <td>3.0</td>\n    </tr>\n    <tr>\n      <th>42</th>\n      <td>x_b,A,0</td>\n      <td>4.0</td>\n    </tr>\n    <tr>\n      <th>43</th>\n      <td>x_b,A,1</td>\n      <td>3.0</td>\n    </tr>\n    <tr>\n      <th>50</th>\n      <td>x_b,B,2</td>\n      <td>2.0</td>\n    </tr>\n    <tr>\n      <th>57</th>\n      <td>x_b,C,3</td>\n      <td>8.0</td>\n    </tr>\n    <tr>\n      <th>58</th>\n      <td>x_b,C,4</td>\n      <td>3.0</td>\n    </tr>\n    <tr>\n      <th>59</th>\n      <td>x_b,C,5</td>\n      <td>6.0</td>\n    </tr>\n    <tr>\n      <th>64</th>\n      <td>x_c,A,4</td>\n      <td>5.0</td>\n    </tr>\n    <tr>\n      <th>65</th>\n      <td>x_c,A,5</td>\n      <td>9.0</td>\n    </tr>\n    <tr>\n      <th>67</th>\n      <td>x_c,B,1</td>\n      <td>7.0</td>\n    </tr>\n    <tr>\n      <th>72</th>\n      <td>x_c,C,0</td>\n      <td>5.0</td>\n    </tr>\n    <tr>\n      <th>74</th>\n      <td>x_c,C,2</td>\n      <td>9.0</td>\n    </tr>\n    <tr>\n      <th>75</th>\n      <td>x_c,C,3</td>\n      <td>1.0</td>\n    </tr>\n    <tr>\n      <th>78</th>\n      <td>x_d,A,0</td>\n      <td>6.0</td>\n    </tr>\n    <tr>\n      <th>91</th>\n      <td>x_d,C,1</td>\n      <td>8.0</td>\n    </tr>\n    <tr>\n      <th>92</th>\n      <td>x_d,C,2</td>\n      <td>1.0</td>\n    </tr>\n    <tr>\n      <th>93</th>\n      <td>x_d,C,3</td>\n      <td>5.0</td>\n    </tr>\n    <tr>\n      <th>94</th>\n      <td>x_d,C,4</td>\n      <td>8.0</td>\n    </tr>\n    <tr>\n      <th>95</th>\n      <td>x_d,C,5</td>\n      <td>2.0</td>\n    </tr>\n  </tbody>\n</table>\n</div>"
     },
     "metadata": {},
     "execution_count": 21
    }
   ],
   "source": [
    "solution = pd.read_csv('solution.csv')\n",
    "solution[solution['solution']>0]"
   ]
  }
 ]
}